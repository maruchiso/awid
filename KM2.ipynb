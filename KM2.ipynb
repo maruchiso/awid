{
 "cells": [
  {
   "cell_type": "markdown",
   "id": "bb04d314",
   "metadata": {},
   "source": [
    "# Kamień milowy 2"
   ]
  },
  {
   "cell_type": "markdown",
   "id": "4eeed689",
   "metadata": {},
   "source": [
    "Prezentacja zaimplementowanej sieci MLP na podstawie model-zoo z biblioteki Flux.jl"
   ]
  },
  {
   "cell_type": "markdown",
   "id": "0cfd86ea",
   "metadata": {},
   "source": [
    "Najpierw uruchamiamy implmentacje referencyjną:"
   ]
  },
  {
   "cell_type": "code",
   "execution_count": 7,
   "id": "511069ba",
   "metadata": {},
   "outputs": [
    {
     "name": "stdout",
     "output_type": "stream",
     "text": [
      "sum(p1) ≈ 1 = true\n",
      "sum(p3; dims = 1) = Float32[0.9999999 0.9999999 1.0]\n",
      "Flux.crossentropy(model(x1), y1) = 2.3772087f0\n",
      "simple_accuracy(model) = 9.96\n"
     ]
    },
    {
     "name": "stderr",
     "output_type": "stream",
     "text": [
      "┌ Info: After epoch = 1\n",
      "│   loss = 1.1293453401885927\n",
      "│   train_acc = 86.1\n",
      "└   test_acc = 87.08\n",
      "┌ Info: After epoch = 3\n",
      "│   loss = 0.36128505622036755\n",
      "│   train_acc = 90.9\n",
      "└   test_acc = 91.57\n",
      "┌ Info: After epoch = 5\n",
      "│   loss = 0.2881310764933005\n",
      "│   train_acc = 92.29\n",
      "└   test_acc = 92.51\n",
      "┌ Info: After epoch = 7\n",
      "│   loss = 0.25043125735828653\n",
      "│   train_acc = 93.35\n",
      "└   test_acc = 93.46\n",
      "┌ Info: After epoch = 9\n",
      "│   loss = 0.22549698734655976\n",
      "│   train_acc = 93.97\n",
      "└   test_acc = 93.77\n",
      "┌ Info: After epoch = 11\n",
      "│   loss = 0.20678282441804186\n",
      "│   train_acc = 94.42\n",
      "└   test_acc = 94.18\n",
      "┌ Info: After epoch = 13\n",
      "│   loss = 0.1924038256984204\n",
      "│   train_acc = 94.81\n",
      "└   test_acc = 94.47\n",
      "┌ Info: After epoch = 15\n",
      "│   loss = 0.18029736913740635\n",
      "│   train_acc = 95.04\n",
      "└   test_acc = 94.65\n",
      "┌ Info: After epoch = 17\n",
      "│   loss = 0.16995932013378479\n",
      "│   train_acc = 95.3\n",
      "└   test_acc = 94.9\n",
      "┌ Info: After epoch = 19\n",
      "│   loss = 0.16152004004106857\n",
      "│   train_acc = 95.55\n",
      "└   test_acc = 94.91\n",
      "┌ Info: After epoch = 21\n",
      "│   loss = 0.15379649648093618\n",
      "│   train_acc = 95.84\n",
      "└   test_acc = 95.24\n",
      "┌ Info: After epoch = 23\n",
      "│   loss = 0.14688436963479035\n",
      "│   train_acc = 95.93\n",
      "└   test_acc = 95.34\n",
      "┌ Info: After epoch = 25\n",
      "│   loss = 0.14093148164101876\n",
      "│   train_acc = 96.18\n",
      "└   test_acc = 95.5\n",
      "┌ Info: After epoch = 27\n",
      "│   loss = 0.13525338209001347\n",
      "│   train_acc = 96.31\n",
      "└   test_acc = 95.6\n",
      "┌ Info: After epoch = 29\n",
      "│   loss = 0.13044895124039613\n",
      "│   train_acc = 96.47\n",
      "└   test_acc = 95.69\n"
     ]
    },
    {
     "data": {
      "text/plain": [
       "Process(`\u001b[4mjulia\u001b[24m \u001b[4mmlp_mnist.jl\u001b[24m`, ProcessExited(0))"
      ]
     },
     "metadata": {},
     "output_type": "display_data"
    }
   ],
   "source": [
    "run(`julia mlp_mnist.jl`)"
   ]
  },
  {
   "cell_type": "markdown",
   "id": "3c589693",
   "metadata": {},
   "source": [
    "Następnie uruchamiamy moją implementacje:"
   ]
  },
  {
   "cell_type": "code",
   "execution_count": 8,
   "id": "f7506cc8",
   "metadata": {},
   "outputs": [
    {
     "name": "stdout",
     "output_type": "stream",
     "text": [
      "Load data\n",
      "MLP: 28x28 -> 32 (relu) -> 10\n",
      "Epoch:  1 / 30, Avg loss: 1.093982, accuracy (Test): 87.92%\n",
      "Epoch:  2 / 30, Avg loss: 0.449641, accuracy (Test): 90.71%\n",
      "Epoch:  3 / 30, Avg loss: 0.352515, accuracy (Test): 91.46%\n",
      "Epoch:  4 / 30, Avg loss: 0.309119, accuracy (Test): 92.02%\n",
      "Epoch:  5 / 30, Avg loss: 0.282141, accuracy (Test): 92.47%\n",
      "Epoch:  6 / 30, Avg loss: 0.262346, accuracy (Test): 92.83%\n",
      "Epoch:  7 / 30, Avg loss: 0.246754, accuracy (Test): 93.13%\n",
      "Epoch:  8 / 30, Avg loss: 0.233896, accuracy (Test): 93.53%\n",
      "Epoch:  9 / 30, Avg loss: 0.222862, accuracy (Test): 93.67%\n",
      "Epoch: 10 / 30, Avg loss: 0.213121, accuracy (Test): 93.97%\n",
      "Epoch: 11 / 30, Avg loss: 0.204319, accuracy (Test): 94.13%\n",
      "Epoch: 12 / 30, Avg loss: 0.196255, accuracy (Test): 94.32%\n",
      "Epoch: 13 / 30, Avg loss: 0.188889, accuracy (Test): 94.56%\n",
      "Epoch: 14 / 30, Avg loss: 0.181868, accuracy (Test): 94.66%\n",
      "Epoch: 15 / 30, Avg loss: 0.175056, accuracy (Test): 94.86%\n",
      "Epoch: 16 / 30, Avg loss: 0.168872, accuracy (Test): 95.00%\n",
      "Epoch: 17 / 30, Avg loss: 0.163131, accuracy (Test): 95.10%\n",
      "Epoch: 18 / 30, Avg loss: 0.157806, accuracy (Test): 95.29%\n",
      "Epoch: 19 / 30, Avg loss: 0.152922, accuracy (Test): 95.36%\n",
      "Epoch: 20 / 30, Avg loss: 0.148362, accuracy (Test): 95.44%\n",
      "Epoch: 21 / 30, Avg loss: 0.144103, accuracy (Test): 95.54%\n",
      "Epoch: 22 / 30, Avg loss: 0.140093, accuracy (Test): 95.59%\n",
      "Epoch: 23 / 30, Avg loss: 0.136361, accuracy (Test): 95.67%\n",
      "Epoch: 24 / 30, Avg loss: 0.132850, accuracy (Test): 95.76%\n",
      "Epoch: 25 / 30, Avg loss: 0.129523, accuracy (Test): 95.89%\n",
      "Epoch: 26 / 30, Avg loss: 0.126376, accuracy (Test): 96.01%\n",
      "Epoch: 27 / 30, Avg loss: 0.123377, accuracy (Test): 96.06%\n",
      "Epoch: 28 / 30, Avg loss: 0.120551, accuracy (Test): 96.11%\n",
      "Epoch: 29 / 30, Avg loss: 0.117854, accuracy (Test): 96.20%\n",
      "Epoch: 30 / 30, Avg loss: 0.115287, accuracy (Test): 96.24%\n"
     ]
    },
    {
     "data": {
      "text/plain": [
       "Process(`\u001b[4mjulia\u001b[24m \u001b[4mtest_mlp.jl\u001b[24m`, ProcessExited(0))"
      ]
     },
     "metadata": {},
     "output_type": "display_data"
    }
   ],
   "source": [
    "run(`julia test_mlp.jl`)"
   ]
  },
  {
   "cell_type": "markdown",
   "id": "dbebf7a2",
   "metadata": {},
   "source": [
    "Otrzymane wyniki:"
   ]
  },
  {
   "cell_type": "code",
   "execution_count": 9,
   "id": "38e661b1",
   "metadata": {},
   "outputs": [
    {
     "name": "stdout",
     "output_type": "stream",
     "text": [
      "Referencja:\n",
      "  Loss:     0.12817219470161945\n",
      "  Accuracy: 95.84%\n",
      "  Time:     20.94100022315979 s\n",
      "\n",
      "Moja implementacja:\n",
      "  Loss:     0.11528699\n",
      "  Accuracy: 96.24%\n",
      "  Time:     12.344000101089478 s\n"
     ]
    }
   ],
   "source": [
    "using JSON\n",
    "\n",
    "flux = JSON.parsefile(\"referencja.json\")\n",
    "custom = JSON.parsefile(\"mlp.json\")\n",
    "\n",
    "println(\"Referencja:\")\n",
    "println(\"  Loss:     \", flux[\"loss\"])\n",
    "println(\"  Accuracy: \", flux[\"accuracy\"], \"%\")\n",
    "println(\"  Time:     \", flux[\"train_time\"], \" s\")\n",
    "\n",
    "println(\"\\nMoja implementacja:\")\n",
    "println(\"  Loss:     \", custom[\"loss\"])\n",
    "println(\"  Accuracy: \", custom[\"accuracy\"], \"%\")\n",
    "println(\"  Time:     \", custom[\"train_time\"], \" s\")\n"
   ]
  }
 ],
 "metadata": {
  "kernelspec": {
   "display_name": "Julia 1.11.3",
   "language": "julia",
   "name": "julia-1.11"
  },
  "language_info": {
   "file_extension": ".jl",
   "mimetype": "application/julia",
   "name": "julia",
   "version": "1.11.3"
  }
 },
 "nbformat": 4,
 "nbformat_minor": 5
}
